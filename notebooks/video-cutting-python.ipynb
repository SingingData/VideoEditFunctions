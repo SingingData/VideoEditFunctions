{
 "cells": [
  {
   "cell_type": "markdown",
   "metadata": {},
   "source": [
    "# Functions to Manipulate and Generate Movie Files"
   ]
  },
  {
   "cell_type": "markdown",
   "metadata": {},
   "source": [
    "pattyry\n",
    "Nov 14, 2020"
   ]
  },
  {
   "cell_type": "markdown",
   "metadata": {},
   "source": [
    "### Trim a movie file"
   ]
  },
  {
   "cell_type": "code",
   "execution_count": 1,
   "metadata": {},
   "outputs": [],
   "source": [
    "import os\n",
    "import moviepy\n",
    "from moviepy.video.io.ffmpeg_tools import ffmpeg_extract_subclip"
   ]
  },
  {
   "cell_type": "code",
   "execution_count": 38,
   "metadata": {},
   "outputs": [
    {
     "data": {
      "text/plain": [
       "'c:\\\\iota'"
      ]
     },
     "execution_count": 38,
     "metadata": {},
     "output_type": "execute_result"
    }
   ],
   "source": [
    "\n",
    "\n",
    "cwd = \"c:\\\\iota\"\n",
    "os.chdir(cwd)\n",
    "filein = \"custom-vision-demo2.mp4\"\n",
    "fileout = \"custom-vision-demo-out.mp4\"\n",
    "os.getcwd()\n",
    "\n",
    "start_time =220\n",
    "end_time = 1000\n",
    "\n",
    "ffmpeg_extract_subclip(filein, start_time, end_time, targetname=fileout)"
   ]
  },
  {
   "cell_type": "code",
   "execution_count": null,
   "metadata": {},
   "outputs": [],
   "source": []
  },
  {
   "cell_type": "markdown",
   "metadata": {},
   "source": [
    "### Create a movie file from a wav file"
   ]
  },
  {
   "cell_type": "code",
   "execution_count": 2,
   "metadata": {},
   "outputs": [
    {
     "data": {
      "text/plain": [
       "'c:\\\\industrial-audio'"
      ]
     },
     "execution_count": 2,
     "metadata": {},
     "output_type": "execute_result"
    }
   ],
   "source": [
    "from pydub import AudioSegment\n",
    "\n",
    "os.chdir(\"c:\\\\industrial-audio\")\n",
    "os.getcwd()"
   ]
  },
  {
   "cell_type": "code",
   "execution_count": 9,
   "metadata": {},
   "outputs": [
    {
     "data": {
      "text/plain": [
       "<_io.BufferedRandom name='wenatchee.mp4'>"
      ]
     },
     "execution_count": 9,
     "metadata": {},
     "output_type": "execute_result"
    }
   ],
   "source": [
    "AudioSegment.from_wav(\"wenatchee1-1.wav\").export(\"wenatchee.mp4\", format=\"mp4\")"
   ]
  },
  {
   "cell_type": "code",
   "execution_count": 10,
   "metadata": {},
   "outputs": [
    {
     "data": {
      "text/plain": [
       "<_io.BufferedRandom name='puyallip.mp4'>"
      ]
     },
     "execution_count": 10,
     "metadata": {},
     "output_type": "execute_result"
    }
   ],
   "source": [
    "AudioSegment.from_wav(\"puyallip.wav\").export(\"puyallip.mp4\", format=\"mp4\")"
   ]
  },
  {
   "cell_type": "markdown",
   "metadata": {},
   "source": [
    "### Add Still Image and a WAV File to Make a Movie File"
   ]
  },
  {
   "cell_type": "code",
   "execution_count": 33,
   "metadata": {},
   "outputs": [],
   "source": [
    "import ffmpeg\n",
    "import subprocess   \n",
    "\n",
    "input_still = ffmpeg.input(\"tacoma.jpg\")\n",
    "input_audio = ffmpeg.input(\"tacoma.wav\")"
   ]
  },
  {
   "cell_type": "code",
   "execution_count": 20,
   "metadata": {},
   "outputs": [
    {
     "data": {
      "text/plain": [
       "CompletedProcess(args='ffmpeg -loop 1 -i tacoma.jpg -i tacoma.wav -c:v libx264 -tune stillimage -c:a aac -b:a 192k -pix_fmt yuv420p -shortest out.mp4', returncode=0)"
      ]
     },
     "execution_count": 20,
     "metadata": {},
     "output_type": "execute_result"
    }
   ],
   "source": [
    " \n",
    "subprocess.run('ffmpeg -loop 1 -i tacoma.jpg -i tacoma.wav -c:v libx264 -tune stillimage -c:a aac -b:a 192k -pix_fmt yuv420p -shortest out.mp4')"
   ]
  },
  {
   "cell_type": "code",
   "execution_count": 25,
   "metadata": {},
   "outputs": [
    {
     "data": {
      "text/plain": [
       "CompletedProcess(args='ffmpeg -loop 1 -i wenatchee.jpg -i wenatchee.wav -c:v libx264 -tune stillimage -c:a aac -b:a 192k -pix_fmt yuv420p -shortest wenatchee.mp4', returncode=0)"
      ]
     },
     "execution_count": 25,
     "metadata": {},
     "output_type": "execute_result"
    }
   ],
   "source": [
    "\n",
    "subprocess.run('ffmpeg -loop 1 -i wenatchee.jpg -i wenatchee.wav -c:v libx264 -tune stillimage -c:a aac -b:a 192k -pix_fmt yuv420p -shortest wenatchee.mp4')"
   ]
  },
  {
   "cell_type": "markdown",
   "metadata": {},
   "source": [
    "### Concatanate Movie Files"
   ]
  },
  {
   "cell_type": "code",
   "execution_count": 41,
   "metadata": {},
   "outputs": [
    {
     "data": {
      "text/plain": [
       "'c:\\\\industrial-audio\\\\target-videos'"
      ]
     },
     "execution_count": 41,
     "metadata": {},
     "output_type": "execute_result"
    }
   ],
   "source": [
    "\n",
    "os.chdir(\"c:\\\\industrial-audio\\\\target-videos\")\n",
    "os.getcwd()"
   ]
  },
  {
   "cell_type": "code",
   "execution_count": 42,
   "metadata": {},
   "outputs": [
    {
     "name": "stdout",
     "output_type": "stream",
     "text": [
      "[<moviepy.video.io.VideoFileClip.VideoFileClip object at 0x00000211DF2B2978>]\n",
      "[<moviepy.video.io.VideoFileClip.VideoFileClip object at 0x00000211DF2B2978>, <moviepy.video.io.VideoFileClip.VideoFileClip object at 0x00000211DE28DA58>]\n",
      "[<moviepy.video.io.VideoFileClip.VideoFileClip object at 0x00000211DF2B2978>, <moviepy.video.io.VideoFileClip.VideoFileClip object at 0x00000211DE28DA58>, <moviepy.video.io.VideoFileClip.VideoFileClip object at 0x00000211DF2B27B8>]\n"
     ]
    },
    {
     "name": "stderr",
     "output_type": "stream",
     "text": [
      "chunk:   1%|▍                                                                | 2/269 [00:00<00:15, 17.54it/s, now=None]"
     ]
    },
    {
     "name": "stdout",
     "output_type": "stream",
     "text": [
      "[<moviepy.video.io.VideoFileClip.VideoFileClip object at 0x00000211DF2B2978>, <moviepy.video.io.VideoFileClip.VideoFileClip object at 0x00000211DE28DA58>, <moviepy.video.io.VideoFileClip.VideoFileClip object at 0x00000211DF2B27B8>, <moviepy.video.io.VideoFileClip.VideoFileClip object at 0x00000211DF2B2D30>]\n",
      "Moviepy - Building video ct_01.mp4.\n",
      "MoviePy - Writing audio in ct_01TEMP_MPY_wvf_snd.mp3\n"
     ]
    },
    {
     "name": "stderr",
     "output_type": "stream",
     "text": [
      "t:   1%|▍                                                                    | 2/304 [00:00<00:17, 17.09it/s, now=None]"
     ]
    },
    {
     "name": "stdout",
     "output_type": "stream",
     "text": [
      "MoviePy - Done.\n",
      "Moviepy - Writing video ct_01.mp4\n",
      "\n"
     ]
    },
    {
     "name": "stderr",
     "output_type": "stream",
     "text": [
      "                                                                                                                       "
     ]
    },
    {
     "name": "stdout",
     "output_type": "stream",
     "text": [
      "Moviepy - Done !\n",
      "Moviepy - video ready ct_01.mp4\n"
     ]
    },
    {
     "name": "stderr",
     "output_type": "stream",
     "text": [
      "\r"
     ]
    }
   ],
   "source": [
    "import os\n",
    "from moviepy.editor import *\n",
    "\n",
    "clips = []\n",
    "\n",
    "for filename in os.listdir('.'):\n",
    "    if filename.endswith(\".mp4\"):\n",
    "        clips.append(VideoFileClip(filename))\n",
    "    print(clips)\n",
    "video = concatenate_videoclips(clips, method='compose')\n",
    "video.write_videofile('ct_01.mp4')"
   ]
  },
  {
   "cell_type": "markdown",
   "metadata": {},
   "source": [
    "### Write Text on Movie"
   ]
  },
  {
   "cell_type": "code",
   "execution_count": null,
   "metadata": {},
   "outputs": [],
   "source": [
    "To be written to a file, all the frames must have the same size. Here you frames with Dog are smaller that the frames with CatCat, which spoils the video. A first solution is to use the method \"compose\" in concatenate_videoclips, this will give the same size to all clips:\n",
    "\n",
    "import moviepy.editor as mp\n",
    "messages = [\"Tacoma\", \"Wenatchee\"]\n",
    "clips = [ mp.TextClip(txt, fontsize=170, color='white').set_duration(1)\n",
    "          for txt in messages ]\n",
    "concat_clip = mp.concatenate_videoclips(clips, method=\"compose\")\n",
    "concat_clip.write_videofile(\"texts.mp4\")"
   ]
  },
  {
   "cell_type": "code",
   "execution_count": null,
   "metadata": {},
   "outputs": [],
   "source": []
  }
 ],
 "metadata": {
  "kernelspec": {
   "display_name": "Python 3",
   "language": "python",
   "name": "python3"
  },
  "language_info": {
   "codemirror_mode": {
    "name": "ipython",
    "version": 3
   },
   "file_extension": ".py",
   "mimetype": "text/x-python",
   "name": "python",
   "nbconvert_exporter": "python",
   "pygments_lexer": "ipython3",
   "version": "3.7.3"
  }
 },
 "nbformat": 4,
 "nbformat_minor": 4
}
