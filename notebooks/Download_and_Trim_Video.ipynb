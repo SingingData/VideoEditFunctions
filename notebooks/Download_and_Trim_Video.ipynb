{
 "cells": [
  {
   "cell_type": "markdown",
   "id": "d79ae037-3979-444d-9be6-02b53d6294ac",
   "metadata": {},
   "source": [
    "### Download Video from Internet to Local"
   ]
  },
  {
   "cell_type": "code",
   "execution_count": 5,
   "id": "5134f440-7958-42fd-b3d0-07ac18856e08",
   "metadata": {},
   "outputs": [
    {
     "data": {
      "text/plain": [
       "'C:\\\\Users\\\\patty\\\\notebooks'"
      ]
     },
     "execution_count": 5,
     "metadata": {},
     "output_type": "execute_result"
    }
   ],
   "source": [
    "import os\n",
    "os.chdir(\"C:\\\\Users\\\\patty\\\\notebooks\")\n",
    "os.getcwd()"
   ]
  },
  {
   "cell_type": "code",
   "execution_count": null,
   "id": "8e62b283-c6c6-4c0e-bb6d-f58ab0da7696",
   "metadata": {},
   "outputs": [],
   "source": [
    "import yt_dlp\n",
    "import ffmpeg\n",
    "\n",
    "yt_opts = {\n",
    "    'verbose': True,\n",
    "    'downloader': 'ffmpeg',\n",
    "\t'format': 'best[ext=mp4]',\n",
    "\t'outtmpl':  \"C:\\output.mp4\"\n",
    "}\n",
    "\n",
    "with yt_dlp.YoutubeDL(yt_opts) as ydl:\n",
    "  ydl.download(\"https://link.to.video)"
   ]
  },
  {
   "cell_type": "markdown",
   "id": "a853dd17-b0c0-47ea-99aa-ddac9bedc956",
   "metadata": {},
   "source": [
    "### Trim Downloaded Video to Desired Selection"
   ]
  },
  {
   "cell_type": "code",
   "execution_count": null,
   "id": "4a631845-4b64-45e8-93da-8be8321b9ee0",
   "metadata": {},
   "outputs": [],
   "source": [
    "cwd = \"c:\\\\\"\n",
    "os.chdir(cwd)\n",
    "os.getcwd()\n",
    "\n",
    "filein = \"trimmed_output.mp4\"\n",
    "fileout = \"trimmed_output1.mp4\"\n",
    "\n",
    "start_time =8\n",
    "end_time = 21\n",
    "\n",
    "ffmpeg_extract_subclip(filein, start_time, end_time, targetname=fileout)"
   ]
  }
 ],
 "metadata": {
  "kernelspec": {
   "display_name": "Python 3 (ipykernel)",
   "language": "python",
   "name": "python3"
  },
  "language_info": {
   "codemirror_mode": {
    "name": "ipython",
    "version": 3
   },
   "file_extension": ".py",
   "mimetype": "text/x-python",
   "name": "python",
   "nbconvert_exporter": "python",
   "pygments_lexer": "ipython3",
   "version": "3.12.4"
  }
 },
 "nbformat": 4,
 "nbformat_minor": 5
}
